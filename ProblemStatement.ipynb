{
  "nbformat": 4,
  "nbformat_minor": 0,
  "metadata": {
    "colab": {
      "name": "ProblemStatement.ipynb",
      "version": "0.3.2",
      "provenance": [],
      "include_colab_link": true
    },
    "kernelspec": {
      "name": "python3",
      "display_name": "Python 3"
    }
  },
  "cells": [
    {
      "cell_type": "markdown",
      "metadata": {
        "id": "view-in-github",
        "colab_type": "text"
      },
      "source": [
        "<a href=\"https://colab.research.google.com/github/rajatgermany/yelp_elite_classifier/blob/master/ProblemStatement.ipynb\" target=\"_parent\"><img src=\"https://colab.research.google.com/assets/colab-badge.svg\" alt=\"Open In Colab\"/></a>"
      ]
    },
    {
      "metadata": {
        "id": "PmefUxurOj6d",
        "colab_type": "code",
        "colab": {}
      },
      "cell_type": "code",
      "source": [
        "from google.colab import drive \n",
        "drive.mount('/content/gdrive')"
      ],
      "execution_count": 0,
      "outputs": []
    },
    {
      "metadata": {
        "id": "e1MG3CWfN7c0",
        "colab_type": "text"
      },
      "cell_type": "markdown",
      "source": [
        "# ProblemStatement - Want to predict whether a user is elite is  not \n",
        "Here ownwards will try formulating the statement \n",
        "\n",
        "\n",
        "1.   Look into the data patterns in context to the elite variable\n",
        "2.   Select the variables which affect most being\n",
        "\n"
      ]
    },
    {
      "metadata": {
        "id": "Dh1LnfhROmQL",
        "colab_type": "code",
        "colab": {}
      },
      "cell_type": "code",
      "source": [
        "% matplotlib inline\n",
        "\n",
        "import pandas as pd \n",
        "import numpy as np\n",
        "import matplotlib.pyplot as plt\n",
        "import seaborn as sns\n",
        "import warnings\n",
        "\n",
        "warnings.filterwarnings('ignore')"
      ],
      "execution_count": 0,
      "outputs": []
    },
    {
      "metadata": {
        "id": "m45r98d2PBIj",
        "colab_type": "code",
        "colab": {}
      },
      "cell_type": "code",
      "source": [
        "\n",
        "SMALL_SIZE = 12\n",
        "MEDIUM_SIZE = 20\n",
        "BIGGER_SIZE = 24\n",
        "\n",
        "plt.rc('font', size=SMALL_SIZE)          # controls default text sizes\n",
        "plt.rc('axes', titlesize=SMALL_SIZE)     # fontsize of the axes title\n",
        "plt.rc('axes', labelsize=MEDIUM_SIZE)    # fontsize of the x and y labels\n",
        "plt.rc('xtick', labelsize=SMALL_SIZE)    # fontsize of the tick labels\n",
        "plt.rc('ytick', labelsize=SMALL_SIZE)    # fontsize of the tick labels\n",
        "plt.rc('legend', fontsize=SMALL_SIZE)    # legend fontsize\n",
        "plt.rc('figure', titlesize=BIGGER_SIZE)  # fontsize of the figure title"
      ],
      "execution_count": 0,
      "outputs": []
    },
    {
      "metadata": {
        "id": "AwXhBd1QPCgV",
        "colab_type": "code",
        "colab": {}
      },
      "cell_type": "code",
      "source": [
        "df =pd.read_csv('gdrive/My Drive/Colab Notebooks/dataexploration/yelp/yelp_user.csv')\n"
      ],
      "execution_count": 0,
      "outputs": []
    },
    {
      "metadata": {
        "id": "RhccWxx6Pk0g",
        "colab_type": "text"
      },
      "cell_type": "markdown",
      "source": [
        "# Data Overview\n"
      ]
    },
    {
      "metadata": {
        "id": "aqX3IpzXPDea",
        "colab_type": "code",
        "outputId": "9ff7f979-ace0-4298-e7f9-1e5ec4cb84a1",
        "colab": {
          "base_uri": "https://localhost:8080/",
          "height": 304
        }
      },
      "cell_type": "code",
      "source": [
        "df.head()"
      ],
      "execution_count": 0,
      "outputs": [
        {
          "output_type": "execute_result",
          "data": {
            "text/html": [
              "<div>\n",
              "<style scoped>\n",
              "    .dataframe tbody tr th:only-of-type {\n",
              "        vertical-align: middle;\n",
              "    }\n",
              "\n",
              "    .dataframe tbody tr th {\n",
              "        vertical-align: top;\n",
              "    }\n",
              "\n",
              "    .dataframe thead th {\n",
              "        text-align: right;\n",
              "    }\n",
              "</style>\n",
              "<table border=\"1\" class=\"dataframe\">\n",
              "  <thead>\n",
              "    <tr style=\"text-align: right;\">\n",
              "      <th></th>\n",
              "      <th>user_id</th>\n",
              "      <th>name</th>\n",
              "      <th>review_count</th>\n",
              "      <th>yelping_since</th>\n",
              "      <th>friends</th>\n",
              "      <th>useful</th>\n",
              "      <th>funny</th>\n",
              "      <th>cool</th>\n",
              "      <th>fans</th>\n",
              "      <th>elite</th>\n",
              "      <th>...</th>\n",
              "      <th>compliment_more</th>\n",
              "      <th>compliment_profile</th>\n",
              "      <th>compliment_cute</th>\n",
              "      <th>compliment_list</th>\n",
              "      <th>compliment_note</th>\n",
              "      <th>compliment_plain</th>\n",
              "      <th>compliment_cool</th>\n",
              "      <th>compliment_funny</th>\n",
              "      <th>compliment_writer</th>\n",
              "      <th>compliment_photos</th>\n",
              "    </tr>\n",
              "  </thead>\n",
              "  <tbody>\n",
              "    <tr>\n",
              "      <th>0</th>\n",
              "      <td>JJ-aSuM4pCFPdkfoZ34q0Q</td>\n",
              "      <td>Chris</td>\n",
              "      <td>10</td>\n",
              "      <td>2013-09-24</td>\n",
              "      <td>0njfJmB-7n84DlIgUByCNw, rFn3Xe3RqHxRSxWOU19Gpg...</td>\n",
              "      <td>0</td>\n",
              "      <td>0</td>\n",
              "      <td>0</td>\n",
              "      <td>0</td>\n",
              "      <td>None</td>\n",
              "      <td>...</td>\n",
              "      <td>0</td>\n",
              "      <td>0</td>\n",
              "      <td>0</td>\n",
              "      <td>0</td>\n",
              "      <td>0</td>\n",
              "      <td>0</td>\n",
              "      <td>0</td>\n",
              "      <td>0</td>\n",
              "      <td>0</td>\n",
              "      <td>0</td>\n",
              "    </tr>\n",
              "    <tr>\n",
              "      <th>1</th>\n",
              "      <td>uUzsFQn_6cXDh6rPNGbIFA</td>\n",
              "      <td>Tiffy</td>\n",
              "      <td>1</td>\n",
              "      <td>2017-03-02</td>\n",
              "      <td>None</td>\n",
              "      <td>0</td>\n",
              "      <td>0</td>\n",
              "      <td>0</td>\n",
              "      <td>0</td>\n",
              "      <td>None</td>\n",
              "      <td>...</td>\n",
              "      <td>0</td>\n",
              "      <td>0</td>\n",
              "      <td>0</td>\n",
              "      <td>0</td>\n",
              "      <td>0</td>\n",
              "      <td>0</td>\n",
              "      <td>0</td>\n",
              "      <td>0</td>\n",
              "      <td>0</td>\n",
              "      <td>0</td>\n",
              "    </tr>\n",
              "    <tr>\n",
              "      <th>2</th>\n",
              "      <td>mBneaEEH5EMyxaVyqS-72A</td>\n",
              "      <td>Mark</td>\n",
              "      <td>6</td>\n",
              "      <td>2015-03-13</td>\n",
              "      <td>None</td>\n",
              "      <td>0</td>\n",
              "      <td>0</td>\n",
              "      <td>0</td>\n",
              "      <td>0</td>\n",
              "      <td>None</td>\n",
              "      <td>...</td>\n",
              "      <td>0</td>\n",
              "      <td>0</td>\n",
              "      <td>0</td>\n",
              "      <td>0</td>\n",
              "      <td>0</td>\n",
              "      <td>0</td>\n",
              "      <td>0</td>\n",
              "      <td>0</td>\n",
              "      <td>0</td>\n",
              "      <td>0</td>\n",
              "    </tr>\n",
              "    <tr>\n",
              "      <th>3</th>\n",
              "      <td>W5mJGs-dcDWRGEhAzUYtoA</td>\n",
              "      <td>Evelyn</td>\n",
              "      <td>3</td>\n",
              "      <td>2016-09-08</td>\n",
              "      <td>None</td>\n",
              "      <td>0</td>\n",
              "      <td>0</td>\n",
              "      <td>0</td>\n",
              "      <td>0</td>\n",
              "      <td>None</td>\n",
              "      <td>...</td>\n",
              "      <td>0</td>\n",
              "      <td>0</td>\n",
              "      <td>0</td>\n",
              "      <td>0</td>\n",
              "      <td>0</td>\n",
              "      <td>0</td>\n",
              "      <td>0</td>\n",
              "      <td>0</td>\n",
              "      <td>0</td>\n",
              "      <td>0</td>\n",
              "    </tr>\n",
              "    <tr>\n",
              "      <th>4</th>\n",
              "      <td>4E8--zUZO1Rr1IBK4_83fg</td>\n",
              "      <td>Lisa</td>\n",
              "      <td>11</td>\n",
              "      <td>2012-07-16</td>\n",
              "      <td>None</td>\n",
              "      <td>4</td>\n",
              "      <td>0</td>\n",
              "      <td>0</td>\n",
              "      <td>0</td>\n",
              "      <td>None</td>\n",
              "      <td>...</td>\n",
              "      <td>0</td>\n",
              "      <td>0</td>\n",
              "      <td>0</td>\n",
              "      <td>0</td>\n",
              "      <td>0</td>\n",
              "      <td>0</td>\n",
              "      <td>0</td>\n",
              "      <td>0</td>\n",
              "      <td>1</td>\n",
              "      <td>0</td>\n",
              "    </tr>\n",
              "  </tbody>\n",
              "</table>\n",
              "<p>5 rows × 22 columns</p>\n",
              "</div>"
            ],
            "text/plain": [
              "                  user_id    name  review_count yelping_since  \\\n",
              "0  JJ-aSuM4pCFPdkfoZ34q0Q   Chris            10    2013-09-24   \n",
              "1  uUzsFQn_6cXDh6rPNGbIFA   Tiffy             1    2017-03-02   \n",
              "2  mBneaEEH5EMyxaVyqS-72A    Mark             6    2015-03-13   \n",
              "3  W5mJGs-dcDWRGEhAzUYtoA  Evelyn             3    2016-09-08   \n",
              "4  4E8--zUZO1Rr1IBK4_83fg    Lisa            11    2012-07-16   \n",
              "\n",
              "                                             friends  useful  funny  cool  \\\n",
              "0  0njfJmB-7n84DlIgUByCNw, rFn3Xe3RqHxRSxWOU19Gpg...       0      0     0   \n",
              "1                                               None       0      0     0   \n",
              "2                                               None       0      0     0   \n",
              "3                                               None       0      0     0   \n",
              "4                                               None       4      0     0   \n",
              "\n",
              "   fans elite        ...          compliment_more  compliment_profile  \\\n",
              "0     0  None        ...                        0                   0   \n",
              "1     0  None        ...                        0                   0   \n",
              "2     0  None        ...                        0                   0   \n",
              "3     0  None        ...                        0                   0   \n",
              "4     0  None        ...                        0                   0   \n",
              "\n",
              "   compliment_cute  compliment_list  compliment_note  compliment_plain  \\\n",
              "0                0                0                0                 0   \n",
              "1                0                0                0                 0   \n",
              "2                0                0                0                 0   \n",
              "3                0                0                0                 0   \n",
              "4                0                0                0                 0   \n",
              "\n",
              "   compliment_cool  compliment_funny  compliment_writer  compliment_photos  \n",
              "0                0                 0                  0                  0  \n",
              "1                0                 0                  0                  0  \n",
              "2                0                 0                  0                  0  \n",
              "3                0                 0                  0                  0  \n",
              "4                0                 0                  1                  0  \n",
              "\n",
              "[5 rows x 22 columns]"
            ]
          },
          "metadata": {
            "tags": []
          },
          "execution_count": 4
        }
      ]
    },
    {
      "metadata": {
        "id": "TFqPGAbkPfOo",
        "colab_type": "code",
        "outputId": "6235ad1b-6e04-4631-8f7d-9a4249473474",
        "colab": {
          "base_uri": "https://localhost:8080/",
          "height": 34
        }
      },
      "cell_type": "code",
      "source": [
        "print('Data has {} features with {} rows '. format(df.shape[1], df.shape[0]))"
      ],
      "execution_count": 0,
      "outputs": [
        {
          "output_type": "stream",
          "text": [
            "Data has 22 features with 1326100 rows \n"
          ],
          "name": "stdout"
        }
      ]
    },
    {
      "metadata": {
        "id": "6F52RREvQMoO",
        "colab_type": "code",
        "outputId": "25c88e48-db5c-4637-fb0c-f623124d3893",
        "colab": {
          "base_uri": "https://localhost:8080/",
          "height": 34
        }
      },
      "cell_type": "code",
      "source": [
        "# categorical variable\n",
        "df.select_dtypes(include='object').columns.tolist()\n"
      ],
      "execution_count": 0,
      "outputs": [
        {
          "output_type": "execute_result",
          "data": {
            "text/plain": [
              "['user_id', 'name', 'yelping_since', 'friends', 'elite']"
            ]
          },
          "metadata": {
            "tags": []
          },
          "execution_count": 6
        }
      ]
    },
    {
      "metadata": {
        "id": "914_5JegQstU",
        "colab_type": "code",
        "outputId": "8696c2ae-c01f-4ba3-907e-56b1f411b398",
        "colab": {
          "base_uri": "https://localhost:8080/",
          "height": 306
        }
      },
      "cell_type": "code",
      "source": [
        "# numerical variable\n",
        "df.select_dtypes(exclude='object').columns.tolist()\n"
      ],
      "execution_count": 0,
      "outputs": [
        {
          "output_type": "execute_result",
          "data": {
            "text/plain": [
              "['review_count',\n",
              " 'useful',\n",
              " 'funny',\n",
              " 'cool',\n",
              " 'fans',\n",
              " 'average_stars',\n",
              " 'compliment_hot',\n",
              " 'compliment_more',\n",
              " 'compliment_profile',\n",
              " 'compliment_cute',\n",
              " 'compliment_list',\n",
              " 'compliment_note',\n",
              " 'compliment_plain',\n",
              " 'compliment_cool',\n",
              " 'compliment_funny',\n",
              " 'compliment_writer',\n",
              " 'compliment_photos']"
            ]
          },
          "metadata": {
            "tags": []
          },
          "execution_count": 7
        }
      ]
    },
    {
      "metadata": {
        "id": "FbGUuPLtSaK_",
        "colab_type": "text"
      },
      "cell_type": "markdown",
      "source": [
        "# Target Variable"
      ]
    },
    {
      "metadata": {
        "id": "kIpBdsWP8FON",
        "colab_type": "text"
      },
      "cell_type": "markdown",
      "source": [
        "\n",
        "\n",
        "# Person with None is marked 0 and rest are marked 1\n",
        "\n",
        "So one class is 0 and another class is 1\n",
        "\n",
        "As of now we can think of formulating the problem as binary classification"
      ]
    },
    {
      "metadata": {
        "id": "zipqrCiiSi2o",
        "colab_type": "code",
        "colab": {}
      },
      "cell_type": "code",
      "source": [
        "df['elite'] = df.elite.apply(lambda x : 0 if x == 'None' else 1)"
      ],
      "execution_count": 0,
      "outputs": []
    },
    {
      "metadata": {
        "id": "wfH5rLxCTY2i",
        "colab_type": "code",
        "outputId": "0ac19423-7baa-41b6-940a-cf9d3504ace1",
        "colab": {
          "base_uri": "https://localhost:8080/",
          "height": 68
        }
      },
      "cell_type": "code",
      "source": [
        "df.elite.value_counts()"
      ],
      "execution_count": 0,
      "outputs": [
        {
          "output_type": "execute_result",
          "data": {
            "text/plain": [
              "0    1265282\n",
              "1      60818\n",
              "Name: elite, dtype: int64"
            ]
          },
          "metadata": {
            "tags": []
          },
          "execution_count": 10
        }
      ]
    },
    {
      "metadata": {
        "id": "0z42JJYdaptk",
        "colab_type": "text"
      },
      "cell_type": "markdown",
      "source": [
        "**ELite memebes are  quite less as compared to not elite**\n",
        "\n",
        "\n",
        "---\n",
        "\n"
      ]
    },
    {
      "metadata": {
        "id": "8BHE7ipJZ6VE",
        "colab_type": "text"
      },
      "cell_type": "markdown",
      "source": [
        "# Data cleaning "
      ]
    },
    {
      "metadata": {
        "id": "YZVI_C0oYJ6Y",
        "colab_type": "code",
        "outputId": "245f7474-0b32-4db0-a472-a0f352b92f7f",
        "colab": {
          "base_uri": "https://localhost:8080/",
          "height": 769
        }
      },
      "cell_type": "code",
      "source": [
        "df.head(20)"
      ],
      "execution_count": 0,
      "outputs": [
        {
          "output_type": "execute_result",
          "data": {
            "text/html": [
              "<div>\n",
              "<style scoped>\n",
              "    .dataframe tbody tr th:only-of-type {\n",
              "        vertical-align: middle;\n",
              "    }\n",
              "\n",
              "    .dataframe tbody tr th {\n",
              "        vertical-align: top;\n",
              "    }\n",
              "\n",
              "    .dataframe thead th {\n",
              "        text-align: right;\n",
              "    }\n",
              "</style>\n",
              "<table border=\"1\" class=\"dataframe\">\n",
              "  <thead>\n",
              "    <tr style=\"text-align: right;\">\n",
              "      <th></th>\n",
              "      <th>user_id</th>\n",
              "      <th>name</th>\n",
              "      <th>review_count</th>\n",
              "      <th>yelping_since</th>\n",
              "      <th>friends</th>\n",
              "      <th>useful</th>\n",
              "      <th>funny</th>\n",
              "      <th>cool</th>\n",
              "      <th>fans</th>\n",
              "      <th>elite</th>\n",
              "      <th>...</th>\n",
              "      <th>compliment_more</th>\n",
              "      <th>compliment_profile</th>\n",
              "      <th>compliment_cute</th>\n",
              "      <th>compliment_list</th>\n",
              "      <th>compliment_note</th>\n",
              "      <th>compliment_plain</th>\n",
              "      <th>compliment_cool</th>\n",
              "      <th>compliment_funny</th>\n",
              "      <th>compliment_writer</th>\n",
              "      <th>compliment_photos</th>\n",
              "    </tr>\n",
              "  </thead>\n",
              "  <tbody>\n",
              "    <tr>\n",
              "      <th>0</th>\n",
              "      <td>JJ-aSuM4pCFPdkfoZ34q0Q</td>\n",
              "      <td>Chris</td>\n",
              "      <td>10</td>\n",
              "      <td>2013-09-24</td>\n",
              "      <td>0njfJmB-7n84DlIgUByCNw, rFn3Xe3RqHxRSxWOU19Gpg...</td>\n",
              "      <td>0</td>\n",
              "      <td>0</td>\n",
              "      <td>0</td>\n",
              "      <td>0</td>\n",
              "      <td>0</td>\n",
              "      <td>...</td>\n",
              "      <td>0</td>\n",
              "      <td>0</td>\n",
              "      <td>0</td>\n",
              "      <td>0</td>\n",
              "      <td>0</td>\n",
              "      <td>0</td>\n",
              "      <td>0</td>\n",
              "      <td>0</td>\n",
              "      <td>0</td>\n",
              "      <td>0</td>\n",
              "    </tr>\n",
              "    <tr>\n",
              "      <th>1</th>\n",
              "      <td>uUzsFQn_6cXDh6rPNGbIFA</td>\n",
              "      <td>Tiffy</td>\n",
              "      <td>1</td>\n",
              "      <td>2017-03-02</td>\n",
              "      <td>None</td>\n",
              "      <td>0</td>\n",
              "      <td>0</td>\n",
              "      <td>0</td>\n",
              "      <td>0</td>\n",
              "      <td>0</td>\n",
              "      <td>...</td>\n",
              "      <td>0</td>\n",
              "      <td>0</td>\n",
              "      <td>0</td>\n",
              "      <td>0</td>\n",
              "      <td>0</td>\n",
              "      <td>0</td>\n",
              "      <td>0</td>\n",
              "      <td>0</td>\n",
              "      <td>0</td>\n",
              "      <td>0</td>\n",
              "    </tr>\n",
              "    <tr>\n",
              "      <th>2</th>\n",
              "      <td>mBneaEEH5EMyxaVyqS-72A</td>\n",
              "      <td>Mark</td>\n",
              "      <td>6</td>\n",
              "      <td>2015-03-13</td>\n",
              "      <td>None</td>\n",
              "      <td>0</td>\n",
              "      <td>0</td>\n",
              "      <td>0</td>\n",
              "      <td>0</td>\n",
              "      <td>0</td>\n",
              "      <td>...</td>\n",
              "      <td>0</td>\n",
              "      <td>0</td>\n",
              "      <td>0</td>\n",
              "      <td>0</td>\n",
              "      <td>0</td>\n",
              "      <td>0</td>\n",
              "      <td>0</td>\n",
              "      <td>0</td>\n",
              "      <td>0</td>\n",
              "      <td>0</td>\n",
              "    </tr>\n",
              "    <tr>\n",
              "      <th>3</th>\n",
              "      <td>W5mJGs-dcDWRGEhAzUYtoA</td>\n",
              "      <td>Evelyn</td>\n",
              "      <td>3</td>\n",
              "      <td>2016-09-08</td>\n",
              "      <td>None</td>\n",
              "      <td>0</td>\n",
              "      <td>0</td>\n",
              "      <td>0</td>\n",
              "      <td>0</td>\n",
              "      <td>0</td>\n",
              "      <td>...</td>\n",
              "      <td>0</td>\n",
              "      <td>0</td>\n",
              "      <td>0</td>\n",
              "      <td>0</td>\n",
              "      <td>0</td>\n",
              "      <td>0</td>\n",
              "      <td>0</td>\n",
              "      <td>0</td>\n",
              "      <td>0</td>\n",
              "      <td>0</td>\n",
              "    </tr>\n",
              "    <tr>\n",
              "      <th>4</th>\n",
              "      <td>4E8--zUZO1Rr1IBK4_83fg</td>\n",
              "      <td>Lisa</td>\n",
              "      <td>11</td>\n",
              "      <td>2012-07-16</td>\n",
              "      <td>None</td>\n",
              "      <td>4</td>\n",
              "      <td>0</td>\n",
              "      <td>0</td>\n",
              "      <td>0</td>\n",
              "      <td>0</td>\n",
              "      <td>...</td>\n",
              "      <td>0</td>\n",
              "      <td>0</td>\n",
              "      <td>0</td>\n",
              "      <td>0</td>\n",
              "      <td>0</td>\n",
              "      <td>0</td>\n",
              "      <td>0</td>\n",
              "      <td>0</td>\n",
              "      <td>1</td>\n",
              "      <td>0</td>\n",
              "    </tr>\n",
              "    <tr>\n",
              "      <th>5</th>\n",
              "      <td>Ob-2oGBQ7rwwYwUvhmnf7g</td>\n",
              "      <td>B</td>\n",
              "      <td>9</td>\n",
              "      <td>2012-05-01</td>\n",
              "      <td>None</td>\n",
              "      <td>0</td>\n",
              "      <td>0</td>\n",
              "      <td>0</td>\n",
              "      <td>0</td>\n",
              "      <td>0</td>\n",
              "      <td>...</td>\n",
              "      <td>0</td>\n",
              "      <td>0</td>\n",
              "      <td>0</td>\n",
              "      <td>0</td>\n",
              "      <td>0</td>\n",
              "      <td>0</td>\n",
              "      <td>0</td>\n",
              "      <td>0</td>\n",
              "      <td>0</td>\n",
              "      <td>0</td>\n",
              "    </tr>\n",
              "    <tr>\n",
              "      <th>6</th>\n",
              "      <td>JaTVvKsBl0bHHJEpESn4pQ</td>\n",
              "      <td>Peter</td>\n",
              "      <td>2</td>\n",
              "      <td>2013-03-23</td>\n",
              "      <td>None</td>\n",
              "      <td>0</td>\n",
              "      <td>0</td>\n",
              "      <td>0</td>\n",
              "      <td>0</td>\n",
              "      <td>0</td>\n",
              "      <td>...</td>\n",
              "      <td>0</td>\n",
              "      <td>0</td>\n",
              "      <td>0</td>\n",
              "      <td>0</td>\n",
              "      <td>0</td>\n",
              "      <td>0</td>\n",
              "      <td>0</td>\n",
              "      <td>0</td>\n",
              "      <td>0</td>\n",
              "      <td>0</td>\n",
              "    </tr>\n",
              "    <tr>\n",
              "      <th>7</th>\n",
              "      <td>Ykj0DVsz0c6rX9ghjd0hDg</td>\n",
              "      <td>Colleen</td>\n",
              "      <td>1</td>\n",
              "      <td>2010-10-10</td>\n",
              "      <td>None</td>\n",
              "      <td>0</td>\n",
              "      <td>0</td>\n",
              "      <td>0</td>\n",
              "      <td>0</td>\n",
              "      <td>0</td>\n",
              "      <td>...</td>\n",
              "      <td>0</td>\n",
              "      <td>0</td>\n",
              "      <td>0</td>\n",
              "      <td>0</td>\n",
              "      <td>0</td>\n",
              "      <td>0</td>\n",
              "      <td>0</td>\n",
              "      <td>0</td>\n",
              "      <td>0</td>\n",
              "      <td>0</td>\n",
              "    </tr>\n",
              "    <tr>\n",
              "      <th>8</th>\n",
              "      <td>kmyEPfKnHQJdTceCdoyMQg</td>\n",
              "      <td>A</td>\n",
              "      <td>7</td>\n",
              "      <td>2012-10-16</td>\n",
              "      <td>None</td>\n",
              "      <td>0</td>\n",
              "      <td>0</td>\n",
              "      <td>0</td>\n",
              "      <td>0</td>\n",
              "      <td>0</td>\n",
              "      <td>...</td>\n",
              "      <td>0</td>\n",
              "      <td>0</td>\n",
              "      <td>0</td>\n",
              "      <td>0</td>\n",
              "      <td>0</td>\n",
              "      <td>0</td>\n",
              "      <td>0</td>\n",
              "      <td>0</td>\n",
              "      <td>0</td>\n",
              "      <td>0</td>\n",
              "    </tr>\n",
              "    <tr>\n",
              "      <th>9</th>\n",
              "      <td>H54pA7YHfjl8IjhHAfdXJA</td>\n",
              "      <td>Chad</td>\n",
              "      <td>3</td>\n",
              "      <td>2010-06-25</td>\n",
              "      <td>None</td>\n",
              "      <td>0</td>\n",
              "      <td>0</td>\n",
              "      <td>0</td>\n",
              "      <td>0</td>\n",
              "      <td>0</td>\n",
              "      <td>...</td>\n",
              "      <td>0</td>\n",
              "      <td>0</td>\n",
              "      <td>0</td>\n",
              "      <td>0</td>\n",
              "      <td>0</td>\n",
              "      <td>0</td>\n",
              "      <td>0</td>\n",
              "      <td>0</td>\n",
              "      <td>0</td>\n",
              "      <td>0</td>\n",
              "    </tr>\n",
              "    <tr>\n",
              "      <th>10</th>\n",
              "      <td>WRae-wZkpRoxMrgJdqwyxg</td>\n",
              "      <td>Mike</td>\n",
              "      <td>1</td>\n",
              "      <td>2017-11-29</td>\n",
              "      <td>None</td>\n",
              "      <td>0</td>\n",
              "      <td>0</td>\n",
              "      <td>0</td>\n",
              "      <td>0</td>\n",
              "      <td>0</td>\n",
              "      <td>...</td>\n",
              "      <td>0</td>\n",
              "      <td>0</td>\n",
              "      <td>0</td>\n",
              "      <td>0</td>\n",
              "      <td>0</td>\n",
              "      <td>0</td>\n",
              "      <td>0</td>\n",
              "      <td>0</td>\n",
              "      <td>0</td>\n",
              "      <td>0</td>\n",
              "    </tr>\n",
              "    <tr>\n",
              "      <th>11</th>\n",
              "      <td>Mmv5fPxbF8XEMN4EPT_Khg</td>\n",
              "      <td>Chris</td>\n",
              "      <td>2</td>\n",
              "      <td>2016-06-24</td>\n",
              "      <td>None</td>\n",
              "      <td>0</td>\n",
              "      <td>0</td>\n",
              "      <td>0</td>\n",
              "      <td>0</td>\n",
              "      <td>0</td>\n",
              "      <td>...</td>\n",
              "      <td>0</td>\n",
              "      <td>0</td>\n",
              "      <td>0</td>\n",
              "      <td>0</td>\n",
              "      <td>0</td>\n",
              "      <td>0</td>\n",
              "      <td>0</td>\n",
              "      <td>0</td>\n",
              "      <td>0</td>\n",
              "      <td>0</td>\n",
              "    </tr>\n",
              "    <tr>\n",
              "      <th>12</th>\n",
              "      <td>LdqGHXsNQowMrvgTNburJA</td>\n",
              "      <td>Susan</td>\n",
              "      <td>1</td>\n",
              "      <td>2013-09-29</td>\n",
              "      <td>None</td>\n",
              "      <td>3</td>\n",
              "      <td>1</td>\n",
              "      <td>0</td>\n",
              "      <td>0</td>\n",
              "      <td>0</td>\n",
              "      <td>...</td>\n",
              "      <td>0</td>\n",
              "      <td>0</td>\n",
              "      <td>0</td>\n",
              "      <td>0</td>\n",
              "      <td>0</td>\n",
              "      <td>0</td>\n",
              "      <td>0</td>\n",
              "      <td>0</td>\n",
              "      <td>0</td>\n",
              "      <td>0</td>\n",
              "    </tr>\n",
              "    <tr>\n",
              "      <th>13</th>\n",
              "      <td>TsgBsn19Wjwpyo81gF9_8Q</td>\n",
              "      <td>Cathy</td>\n",
              "      <td>4</td>\n",
              "      <td>2010-11-28</td>\n",
              "      <td>None</td>\n",
              "      <td>0</td>\n",
              "      <td>0</td>\n",
              "      <td>0</td>\n",
              "      <td>0</td>\n",
              "      <td>0</td>\n",
              "      <td>...</td>\n",
              "      <td>0</td>\n",
              "      <td>0</td>\n",
              "      <td>0</td>\n",
              "      <td>0</td>\n",
              "      <td>1</td>\n",
              "      <td>0</td>\n",
              "      <td>0</td>\n",
              "      <td>0</td>\n",
              "      <td>0</td>\n",
              "      <td>0</td>\n",
              "    </tr>\n",
              "    <tr>\n",
              "      <th>14</th>\n",
              "      <td>V--GjQPlTpeWbcB2cS06Gw</td>\n",
              "      <td>Cody</td>\n",
              "      <td>2</td>\n",
              "      <td>2017-10-24</td>\n",
              "      <td>None</td>\n",
              "      <td>2</td>\n",
              "      <td>0</td>\n",
              "      <td>1</td>\n",
              "      <td>0</td>\n",
              "      <td>0</td>\n",
              "      <td>...</td>\n",
              "      <td>0</td>\n",
              "      <td>0</td>\n",
              "      <td>0</td>\n",
              "      <td>0</td>\n",
              "      <td>0</td>\n",
              "      <td>0</td>\n",
              "      <td>0</td>\n",
              "      <td>0</td>\n",
              "      <td>0</td>\n",
              "      <td>0</td>\n",
              "    </tr>\n",
              "    <tr>\n",
              "      <th>15</th>\n",
              "      <td>a_gKYQ5YMg39FHNYJLWRHg</td>\n",
              "      <td>Joselyn</td>\n",
              "      <td>1</td>\n",
              "      <td>2017-11-07</td>\n",
              "      <td>None</td>\n",
              "      <td>0</td>\n",
              "      <td>0</td>\n",
              "      <td>0</td>\n",
              "      <td>0</td>\n",
              "      <td>0</td>\n",
              "      <td>...</td>\n",
              "      <td>0</td>\n",
              "      <td>0</td>\n",
              "      <td>0</td>\n",
              "      <td>0</td>\n",
              "      <td>0</td>\n",
              "      <td>0</td>\n",
              "      <td>0</td>\n",
              "      <td>0</td>\n",
              "      <td>0</td>\n",
              "      <td>0</td>\n",
              "    </tr>\n",
              "    <tr>\n",
              "      <th>16</th>\n",
              "      <td>sz8Heh56kO_6_LBkoIhNfA</td>\n",
              "      <td>Rosalie</td>\n",
              "      <td>4</td>\n",
              "      <td>2015-06-25</td>\n",
              "      <td>None</td>\n",
              "      <td>0</td>\n",
              "      <td>0</td>\n",
              "      <td>0</td>\n",
              "      <td>0</td>\n",
              "      <td>0</td>\n",
              "      <td>...</td>\n",
              "      <td>0</td>\n",
              "      <td>0</td>\n",
              "      <td>0</td>\n",
              "      <td>0</td>\n",
              "      <td>0</td>\n",
              "      <td>0</td>\n",
              "      <td>0</td>\n",
              "      <td>0</td>\n",
              "      <td>0</td>\n",
              "      <td>0</td>\n",
              "    </tr>\n",
              "    <tr>\n",
              "      <th>17</th>\n",
              "      <td>h5ERTYn2vQ1QbjTZvfWPaA</td>\n",
              "      <td>Bobby</td>\n",
              "      <td>3</td>\n",
              "      <td>2017-01-07</td>\n",
              "      <td>jYiZnueCr7gVq9T34xoa7g, yFLXGdY6rpHt7hRiwEFMag...</td>\n",
              "      <td>0</td>\n",
              "      <td>0</td>\n",
              "      <td>0</td>\n",
              "      <td>0</td>\n",
              "      <td>0</td>\n",
              "      <td>...</td>\n",
              "      <td>0</td>\n",
              "      <td>0</td>\n",
              "      <td>0</td>\n",
              "      <td>0</td>\n",
              "      <td>0</td>\n",
              "      <td>0</td>\n",
              "      <td>0</td>\n",
              "      <td>0</td>\n",
              "      <td>0</td>\n",
              "      <td>0</td>\n",
              "    </tr>\n",
              "    <tr>\n",
              "      <th>18</th>\n",
              "      <td>jYnkJR3T8yCERXywoVhWYA</td>\n",
              "      <td>Hugo</td>\n",
              "      <td>48</td>\n",
              "      <td>2010-07-06</td>\n",
              "      <td>hkXekeW_Jj6mIy8r8N7r1Q, dQDpV-VUtwYGqHznuRV-yw...</td>\n",
              "      <td>15</td>\n",
              "      <td>6</td>\n",
              "      <td>2</td>\n",
              "      <td>3</td>\n",
              "      <td>0</td>\n",
              "      <td>...</td>\n",
              "      <td>0</td>\n",
              "      <td>0</td>\n",
              "      <td>0</td>\n",
              "      <td>0</td>\n",
              "      <td>1</td>\n",
              "      <td>1</td>\n",
              "      <td>1</td>\n",
              "      <td>1</td>\n",
              "      <td>2</td>\n",
              "      <td>0</td>\n",
              "    </tr>\n",
              "    <tr>\n",
              "      <th>19</th>\n",
              "      <td>GMGZsk1dj043UI3zWgo3cw</td>\n",
              "      <td>volk</td>\n",
              "      <td>0</td>\n",
              "      <td>2011-08-05</td>\n",
              "      <td>None</td>\n",
              "      <td>0</td>\n",
              "      <td>0</td>\n",
              "      <td>0</td>\n",
              "      <td>0</td>\n",
              "      <td>0</td>\n",
              "      <td>...</td>\n",
              "      <td>0</td>\n",
              "      <td>0</td>\n",
              "      <td>0</td>\n",
              "      <td>0</td>\n",
              "      <td>0</td>\n",
              "      <td>0</td>\n",
              "      <td>0</td>\n",
              "      <td>0</td>\n",
              "      <td>0</td>\n",
              "      <td>0</td>\n",
              "    </tr>\n",
              "  </tbody>\n",
              "</table>\n",
              "<p>20 rows × 22 columns</p>\n",
              "</div>"
            ],
            "text/plain": [
              "                   user_id     name  review_count yelping_since  \\\n",
              "0   JJ-aSuM4pCFPdkfoZ34q0Q    Chris            10    2013-09-24   \n",
              "1   uUzsFQn_6cXDh6rPNGbIFA    Tiffy             1    2017-03-02   \n",
              "2   mBneaEEH5EMyxaVyqS-72A     Mark             6    2015-03-13   \n",
              "3   W5mJGs-dcDWRGEhAzUYtoA   Evelyn             3    2016-09-08   \n",
              "4   4E8--zUZO1Rr1IBK4_83fg     Lisa            11    2012-07-16   \n",
              "5   Ob-2oGBQ7rwwYwUvhmnf7g        B             9    2012-05-01   \n",
              "6   JaTVvKsBl0bHHJEpESn4pQ    Peter             2    2013-03-23   \n",
              "7   Ykj0DVsz0c6rX9ghjd0hDg  Colleen             1    2010-10-10   \n",
              "8   kmyEPfKnHQJdTceCdoyMQg        A             7    2012-10-16   \n",
              "9   H54pA7YHfjl8IjhHAfdXJA     Chad             3    2010-06-25   \n",
              "10  WRae-wZkpRoxMrgJdqwyxg     Mike             1    2017-11-29   \n",
              "11  Mmv5fPxbF8XEMN4EPT_Khg    Chris             2    2016-06-24   \n",
              "12  LdqGHXsNQowMrvgTNburJA    Susan             1    2013-09-29   \n",
              "13  TsgBsn19Wjwpyo81gF9_8Q    Cathy             4    2010-11-28   \n",
              "14  V--GjQPlTpeWbcB2cS06Gw     Cody             2    2017-10-24   \n",
              "15  a_gKYQ5YMg39FHNYJLWRHg  Joselyn             1    2017-11-07   \n",
              "16  sz8Heh56kO_6_LBkoIhNfA  Rosalie             4    2015-06-25   \n",
              "17  h5ERTYn2vQ1QbjTZvfWPaA    Bobby             3    2017-01-07   \n",
              "18  jYnkJR3T8yCERXywoVhWYA     Hugo            48    2010-07-06   \n",
              "19  GMGZsk1dj043UI3zWgo3cw     volk             0    2011-08-05   \n",
              "\n",
              "                                              friends  useful  funny  cool  \\\n",
              "0   0njfJmB-7n84DlIgUByCNw, rFn3Xe3RqHxRSxWOU19Gpg...       0      0     0   \n",
              "1                                                None       0      0     0   \n",
              "2                                                None       0      0     0   \n",
              "3                                                None       0      0     0   \n",
              "4                                                None       4      0     0   \n",
              "5                                                None       0      0     0   \n",
              "6                                                None       0      0     0   \n",
              "7                                                None       0      0     0   \n",
              "8                                                None       0      0     0   \n",
              "9                                                None       0      0     0   \n",
              "10                                               None       0      0     0   \n",
              "11                                               None       0      0     0   \n",
              "12                                               None       3      1     0   \n",
              "13                                               None       0      0     0   \n",
              "14                                               None       2      0     1   \n",
              "15                                               None       0      0     0   \n",
              "16                                               None       0      0     0   \n",
              "17  jYiZnueCr7gVq9T34xoa7g, yFLXGdY6rpHt7hRiwEFMag...       0      0     0   \n",
              "18  hkXekeW_Jj6mIy8r8N7r1Q, dQDpV-VUtwYGqHznuRV-yw...      15      6     2   \n",
              "19                                               None       0      0     0   \n",
              "\n",
              "    fans  elite        ...          compliment_more  compliment_profile  \\\n",
              "0      0      0        ...                        0                   0   \n",
              "1      0      0        ...                        0                   0   \n",
              "2      0      0        ...                        0                   0   \n",
              "3      0      0        ...                        0                   0   \n",
              "4      0      0        ...                        0                   0   \n",
              "5      0      0        ...                        0                   0   \n",
              "6      0      0        ...                        0                   0   \n",
              "7      0      0        ...                        0                   0   \n",
              "8      0      0        ...                        0                   0   \n",
              "9      0      0        ...                        0                   0   \n",
              "10     0      0        ...                        0                   0   \n",
              "11     0      0        ...                        0                   0   \n",
              "12     0      0        ...                        0                   0   \n",
              "13     0      0        ...                        0                   0   \n",
              "14     0      0        ...                        0                   0   \n",
              "15     0      0        ...                        0                   0   \n",
              "16     0      0        ...                        0                   0   \n",
              "17     0      0        ...                        0                   0   \n",
              "18     3      0        ...                        0                   0   \n",
              "19     0      0        ...                        0                   0   \n",
              "\n",
              "    compliment_cute  compliment_list  compliment_note  compliment_plain  \\\n",
              "0                 0                0                0                 0   \n",
              "1                 0                0                0                 0   \n",
              "2                 0                0                0                 0   \n",
              "3                 0                0                0                 0   \n",
              "4                 0                0                0                 0   \n",
              "5                 0                0                0                 0   \n",
              "6                 0                0                0                 0   \n",
              "7                 0                0                0                 0   \n",
              "8                 0                0                0                 0   \n",
              "9                 0                0                0                 0   \n",
              "10                0                0                0                 0   \n",
              "11                0                0                0                 0   \n",
              "12                0                0                0                 0   \n",
              "13                0                0                1                 0   \n",
              "14                0                0                0                 0   \n",
              "15                0                0                0                 0   \n",
              "16                0                0                0                 0   \n",
              "17                0                0                0                 0   \n",
              "18                0                0                1                 1   \n",
              "19                0                0                0                 0   \n",
              "\n",
              "    compliment_cool  compliment_funny  compliment_writer  compliment_photos  \n",
              "0                 0                 0                  0                  0  \n",
              "1                 0                 0                  0                  0  \n",
              "2                 0                 0                  0                  0  \n",
              "3                 0                 0                  0                  0  \n",
              "4                 0                 0                  1                  0  \n",
              "5                 0                 0                  0                  0  \n",
              "6                 0                 0                  0                  0  \n",
              "7                 0                 0                  0                  0  \n",
              "8                 0                 0                  0                  0  \n",
              "9                 0                 0                  0                  0  \n",
              "10                0                 0                  0                  0  \n",
              "11                0                 0                  0                  0  \n",
              "12                0                 0                  0                  0  \n",
              "13                0                 0                  0                  0  \n",
              "14                0                 0                  0                  0  \n",
              "15                0                 0                  0                  0  \n",
              "16                0                 0                  0                  0  \n",
              "17                0                 0                  0                  0  \n",
              "18                1                 1                  2                  0  \n",
              "19                0                 0                  0                  0  \n",
              "\n",
              "[20 rows x 22 columns]"
            ]
          },
          "metadata": {
            "tags": []
          },
          "execution_count": 11
        }
      ]
    },
    {
      "metadata": {
        "id": "E8oVy7tAaAbd",
        "colab_type": "code",
        "colab": {}
      },
      "cell_type": "code",
      "source": [
        "# Convert the yelping since with the number of years \n",
        "\n",
        "year_start_date = pd.to_datetime('20190101', format='%Y-%m-%d', errors='ignore')\n",
        "df['yelping_since'] = pd.to_datetime(df.yelping_since)\n",
        "df['yelping_years'] =  year_start_date - df.yelping_since\n",
        "days = df['yelping_years'].astype('timedelta64[Y]')\n",
        "df['yelping_years'] = df['yelping_years']/ np.timedelta64(1, 'Y')\n",
        "df.drop('yelping_since', axis = 1, inplace = True)"
      ],
      "execution_count": 0,
      "outputs": []
    },
    {
      "metadata": {
        "id": "6WjU3VpvaP3K",
        "colab_type": "code",
        "colab": {}
      },
      "cell_type": "code",
      "source": [
        "df['friends'] = df.friends.apply(lambda x : 0 if x == None else len(x.split(',')) )"
      ],
      "execution_count": 0,
      "outputs": []
    },
    {
      "metadata": {
        "id": "EC5epg86eyeN",
        "colab_type": "text"
      },
      "cell_type": "markdown",
      "source": [
        "# Eda"
      ]
    },
    {
      "metadata": {
        "id": "kwiMWPeZ9Ebb",
        "colab_type": "text"
      },
      "cell_type": "markdown",
      "source": [
        "**We will filter out the variables on the behalof of the correlation to get the important features**"
      ]
    },
    {
      "metadata": {
        "id": "T6ULN0TC-Yh_",
        "colab_type": "code",
        "outputId": "71373443-7465-4fb2-825b-36f3e52fba22",
        "colab": {
          "base_uri": "https://localhost:8080/",
          "height": 357
        }
      },
      "cell_type": "code",
      "source": [
        "corr_features = df.corr().elite \n",
        "print(corr_features)"
      ],
      "execution_count": 0,
      "outputs": [
        {
          "output_type": "stream",
          "text": [
            "review_count          0.564773\n",
            "useful                0.138784\n",
            "funny                 0.107813\n",
            "cool                  0.114747\n",
            "fans                  0.314313\n",
            "elite                 1.000000\n",
            "average_stars         0.026686\n",
            "compliment_hot        0.134893\n",
            "compliment_more       0.086326\n",
            "compliment_profile    0.052819\n",
            "compliment_cute       0.061276\n",
            "compliment_list       0.031347\n",
            "compliment_note       0.100244\n",
            "compliment_plain      0.146399\n",
            "compliment_cool       0.157656\n",
            "compliment_funny      0.157656\n",
            "compliment_writer     0.154562\n",
            "compliment_photos     0.046169\n",
            "yelping_years         0.203705\n",
            "Name: elite, dtype: float64\n"
          ],
          "name": "stdout"
        }
      ]
    },
    {
      "metadata": {
        "id": "_6USkgD8_PMT",
        "colab_type": "code",
        "colab": {}
      },
      "cell_type": "code",
      "source": [
        "corr_features = corr_features[corr_features >= 0.20]"
      ],
      "execution_count": 0,
      "outputs": []
    },
    {
      "metadata": {
        "id": "dmm2LUpg_ay-",
        "colab_type": "code",
        "outputId": "3f43f9a7-c518-4297-cc33-fd17968d1aa7",
        "colab": {
          "base_uri": "https://localhost:8080/",
          "height": 119
        }
      },
      "cell_type": "code",
      "source": [
        "corr_features"
      ],
      "execution_count": 0,
      "outputs": [
        {
          "output_type": "execute_result",
          "data": {
            "text/plain": [
              "review_count     0.564773\n",
              "friends          0.318644\n",
              "fans             0.314313\n",
              "elite            1.000000\n",
              "yelping_years    0.203705\n",
              "Name: elite, dtype: float64"
            ]
          },
          "metadata": {
            "tags": []
          },
          "execution_count": 25
        }
      ]
    },
    {
      "metadata": {
        "id": "4PVNCJfP91BQ",
        "colab_type": "text"
      },
      "cell_type": "markdown",
      "source": [
        "Intresting all are having the positive corelation so lets go with most corelated first"
      ]
    },
    {
      "metadata": {
        "id": "mPmKnWOyfB4S",
        "colab_type": "text"
      },
      "cell_type": "markdown",
      "source": [
        "## Review count\n"
      ]
    },
    {
      "metadata": {
        "id": "3xIyj2KBfAzE",
        "colab_type": "code",
        "outputId": "32b809a0-544c-497d-c433-f850b86ff0bf",
        "colab": {
          "base_uri": "https://localhost:8080/",
          "height": 1057
        }
      },
      "cell_type": "code",
      "source": [
        "\n",
        "df['buckets'] = pd.cut(df.review_count, 8)\n",
        "\n",
        "from scipy.stats import norm\n",
        "fig, ax = plt.subplots(2,2, figsize=(16, 16))\n",
        "sns.distplot(df.review_count, fit = norm, ax = ax[0][0], bins = 10)\n",
        "df.review_count.plot('hist',  ax = ax[0][1])\n",
        "sns.boxplot(df.review_count, ax = ax[1][1], color='red')\n",
        "sns.countplot(df.buckets, ax = ax[1][0])\n",
        "ax[1][0].set_xticklabels(ax[1][0].get_xticklabels(), rotation=90);\n",
        "\n"
      ],
      "execution_count": 0,
      "outputs": [
        {
          "output_type": "display_data",
          "data": {
            "image/png": "[encoded data removed]",
            "text/plain": [
              "<Figure size 1152x1152 with 4 Axes>"
            ]
          },
          "metadata": {
            "tags": []
          }
        }
      ]
    },
    {
      "metadata": {
        "id": "hqYQD23CDZ80",
        "colab_type": "text"
      },
      "cell_type": "markdown",
      "source": [
        "**Major of the reviews lies between the 0 -500**"
      ]
    },
    {
      "metadata": {
        "id": "Tqlg4D50G5-T",
        "colab_type": "code",
        "outputId": "9210d883-cc0d-488b-a65c-142b69b0b71c",
        "colab": {
          "base_uri": "https://localhost:8080/",
          "height": 312
        }
      },
      "cell_type": "code",
      "source": [
        "elite_groupby = df.groupby('elite').review_count.mean()\n",
        "sns.barplot(elite_groupby.index, elite_groupby.values)\n",
        "plt.ylabel('Review_count_mean')"
      ],
      "execution_count": 0,
      "outputs": [
        {
          "output_type": "execute_result",
          "data": {
            "text/plain": [
              "Text(0, 0.5, 'Review_count_mean')"
            ]
          },
          "metadata": {
            "tags": []
          },
          "execution_count": 18
        },
        {
          "output_type": "display_data",
          "data": {
            "image/png": "[encoded data removed]",
            "text/plain": [
              "<Figure size 432x288 with 1 Axes>"
            ]
          },
          "metadata": {
            "tags": []
          }
        }
      ]
    },
    {
      "metadata": {
        "id": "KqDz3ZzJKomW",
        "colab_type": "text"
      },
      "cell_type": "markdown",
      "source": [
        "**This makes sense. To being elite one has to make good impact on the yelp. One way is do alot of reviews. ELite members are making lot of reviews**"
      ]
    },
    {
      "metadata": {
        "id": "K_0QAU5_G6fU",
        "colab_type": "text"
      },
      "cell_type": "markdown",
      "source": [
        "Lets see what top review_counts are"
      ]
    },
    {
      "metadata": {
        "id": "Ozhe3tnYBWlp",
        "colab_type": "code",
        "outputId": "db2dd54b-ca8b-467f-d942-f9158d95a212",
        "colab": {
          "base_uri": "https://localhost:8080/",
          "height": 204
        }
      },
      "cell_type": "code",
      "source": [
        "review_count_top_10 = df.review_count.value_counts().head(10)\n",
        "review_count_top_10"
      ],
      "execution_count": 0,
      "outputs": [
        {
          "output_type": "execute_result",
          "data": {
            "text/plain": [
              "1     244232\n",
              "2     166170\n",
              "3     125947\n",
              "4      89844\n",
              "5      68334\n",
              "6      54448\n",
              "7      44497\n",
              "8      37465\n",
              "9      32321\n",
              "10     28455\n",
              "Name: review_count, dtype: int64"
            ]
          },
          "metadata": {
            "tags": []
          },
          "execution_count": 19
        }
      ]
    },
    {
      "metadata": {
        "id": "u0d_2dkKHYkt",
        "colab_type": "code",
        "colab": {}
      },
      "cell_type": "code",
      "source": [
        "df_with_top_review_count = df[df.review_count.isin(list(review_count_top_10.index))]"
      ],
      "execution_count": 0,
      "outputs": []
    },
    {
      "metadata": {
        "id": "YbrAP-mkTB6j",
        "colab_type": "code",
        "outputId": "c198d8df-66f8-4070-ab32-96548990752c",
        "colab": {
          "base_uri": "https://localhost:8080/",
          "height": 313
        }
      },
      "cell_type": "code",
      "source": [
        "sns.countplot('review_count', hue = 'elite', data = df_with_top_review_count)"
      ],
      "execution_count": 0,
      "outputs": [
        {
          "output_type": "execute_result",
          "data": {
            "text/plain": [
              "<matplotlib.axes._subplots.AxesSubplot at 0x7f981c7a3b70>"
            ]
          },
          "metadata": {
            "tags": []
          },
          "execution_count": 21
        },
        {
          "output_type": "display_data",
          "data": {
            "image/png": "[encoded data removed]",
            "text/plain": [
              "<Figure size 432x288 with 1 Axes>"
            ]
          },
          "metadata": {
            "tags": []
          }
        }
      ]
    },
    {
      "metadata": {
        "id": "CEYvFElFPHB7",
        "colab_type": "text"
      },
      "cell_type": "markdown",
      "source": [
        "**Intresing we do not have the signficant amount of  elite members for reviews counts less then 10**"
      ]
    },
    {
      "metadata": {
        "id": "celMEfaQPYtU",
        "colab_type": "text"
      },
      "cell_type": "markdown",
      "source": [
        "Lets find the propotion of each class for reviews counts under 10"
      ]
    },
    {
      "metadata": {
        "id": "VXUbqLh1PW-2",
        "colab_type": "code",
        "outputId": "1478fe9e-93cc-4139-b1d1-bdb2c7e75f59",
        "colab": {
          "base_uri": "https://localhost:8080/",
          "height": 68
        }
      },
      "cell_type": "code",
      "source": [
        "df_with_top_review_count.elite.value_counts()"
      ],
      "execution_count": 0,
      "outputs": [
        {
          "output_type": "execute_result",
          "data": {
            "text/plain": [
              "0    891688\n",
              "1        25\n",
              "Name: elite, dtype: int64"
            ]
          },
          "metadata": {
            "tags": []
          },
          "execution_count": 22
        }
      ]
    },
    {
      "metadata": {
        "id": "BG6rF_SAg5AD",
        "colab_type": "text"
      },
      "cell_type": "markdown",
      "source": [
        "# The problem can be formulated as to build a classifier to predict memeber is elite or not when  review_counts are less then 10**\n",
        "\n",
        "\n",
        "\n",
        "\n",
        "\n"
      ]
    },
    {
      "metadata": {
        "id": "eHXYO2fFid4h",
        "colab_type": "code",
        "colab": {}
      },
      "cell_type": "code",
      "source": [
        ""
      ],
      "execution_count": 0,
      "outputs": []
    }
  ]
}